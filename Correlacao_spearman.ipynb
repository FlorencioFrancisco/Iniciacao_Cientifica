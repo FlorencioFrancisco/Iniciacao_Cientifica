{
 "cells": [
  {
   "cell_type": "code",
   "execution_count": 5,
   "metadata": {},
   "outputs": [],
   "source": [
    "import numpy as np\n",
    "import pandas as pd \n",
    "from pandas import Series, DataFrame\n",
    "import matplotlib.pyplot as plt\n",
    "\n",
    "from pylab import rcParams\n",
    "import seaborn as sb\n",
    "\n",
    "import scipy\n",
    "from scipy.stats import spearmanr"
   ]
  },
  {
   "cell_type": "code",
   "execution_count": 16,
   "metadata": {},
   "outputs": [],
   "source": [
    "%matplotlib inline\n",
    "rcParams['figure.figsize'] = 5, 4\n",
    "sb.set(style=\"ticks\", color_codes=True)"
   ]
  },
  {
   "cell_type": "code",
   "execution_count": 9,
   "metadata": {},
   "outputs": [],
   "source": [
    "filtered_sheet_address = \"C:/Users/1050481723030/Desktop/Iniciacao_Cientifica/filtered_data/Indaiatuba_BigData.xlsx\"\n",
    "#CURSO\tTURNO\tRA\tNOME\tSTATUS_ALUNO\tESCOLA_PUBLICA\tRAÇA\tNOTA_VESTIBULAR\tDATA_NASCIMENTO\tSEMESTRE_ANO\tSIGLA\tDISCIPLINA\tNOTA\tFREQUENCIA\tCONCEITO\n",
    "\n",
    "#Carrega a planilha e faz com que reconheça decimais con vírgula\n",
    "df = pd.read_excel(filtered_sheet_address, decimal=',')"
   ]
  },
  {
   "cell_type": "code",
   "execution_count": 10,
   "metadata": {},
   "outputs": [
    {
     "data": {
      "text/html": [
       "<div>\n",
       "<style scoped>\n",
       "    .dataframe tbody tr th:only-of-type {\n",
       "        vertical-align: middle;\n",
       "    }\n",
       "\n",
       "    .dataframe tbody tr th {\n",
       "        vertical-align: top;\n",
       "    }\n",
       "\n",
       "    .dataframe thead th {\n",
       "        text-align: right;\n",
       "    }\n",
       "</style>\n",
       "<table border=\"1\" class=\"dataframe\">\n",
       "  <thead>\n",
       "    <tr style=\"text-align: right;\">\n",
       "      <th></th>\n",
       "      <th>CURSO</th>\n",
       "      <th>TURNO</th>\n",
       "      <th>RA</th>\n",
       "      <th>NOME</th>\n",
       "      <th>STATUS_ALUNO</th>\n",
       "      <th>ESCOLA_PUBLICA</th>\n",
       "      <th>RAÇA</th>\n",
       "      <th>NOTA_VESTIBULAR</th>\n",
       "      <th>DATA_NASCIMENTO</th>\n",
       "      <th>SEMESTRE_ANO</th>\n",
       "      <th>SIGLA</th>\n",
       "      <th>DISCIPLINA</th>\n",
       "      <th>NOTA</th>\n",
       "      <th>FREQUENCIA</th>\n",
       "      <th>CONCEITO</th>\n",
       "    </tr>\n",
       "  </thead>\n",
       "  <tbody>\n",
       "    <tr>\n",
       "      <th>0</th>\n",
       "      <td>ANÁLISE E DESENV. DE SISTEMAS</td>\n",
       "      <td>Noite</td>\n",
       "      <td>1050481623047T</td>\n",
       "      <td>ABNER BESSI GONÇALVES                         ...</td>\n",
       "      <td>Em Curso                                      ...</td>\n",
       "      <td>0</td>\n",
       "      <td>Branca</td>\n",
       "      <td>0.0</td>\n",
       "      <td>1997-06-04</td>\n",
       "      <td>20162</td>\n",
       "      <td>AAG001</td>\n",
       "      <td>Administração Geral</td>\n",
       "      <td>0.0</td>\n",
       "      <td>0.0</td>\n",
       "      <td>Dispensa por Aproveitamento de Estudo         ...</td>\n",
       "    </tr>\n",
       "    <tr>\n",
       "      <th>1</th>\n",
       "      <td>ANÁLISE E DESENV. DE SISTEMAS</td>\n",
       "      <td>Noite</td>\n",
       "      <td>1050481623047T</td>\n",
       "      <td>ABNER BESSI GONÇALVES                         ...</td>\n",
       "      <td>Em Curso                                      ...</td>\n",
       "      <td>0</td>\n",
       "      <td>Branca</td>\n",
       "      <td>0.0</td>\n",
       "      <td>1997-06-04</td>\n",
       "      <td>20181</td>\n",
       "      <td>AGO005</td>\n",
       "      <td>Gestão de Projetos</td>\n",
       "      <td>8.5</td>\n",
       "      <td>80.0</td>\n",
       "      <td>Aprovado por Nota e Frequência                ...</td>\n",
       "    </tr>\n",
       "    <tr>\n",
       "      <th>2</th>\n",
       "      <td>ANÁLISE E DESENV. DE SISTEMAS</td>\n",
       "      <td>Noite</td>\n",
       "      <td>1050481623047T</td>\n",
       "      <td>ABNER BESSI GONÇALVES                         ...</td>\n",
       "      <td>Em Curso                                      ...</td>\n",
       "      <td>0</td>\n",
       "      <td>Branca</td>\n",
       "      <td>0.0</td>\n",
       "      <td>1997-06-04</td>\n",
       "      <td>20162</td>\n",
       "      <td>AGR101</td>\n",
       "      <td>Gestão de Equipes</td>\n",
       "      <td>6.7</td>\n",
       "      <td>75.0</td>\n",
       "      <td>Aprovado por Nota e Frequência                ...</td>\n",
       "    </tr>\n",
       "    <tr>\n",
       "      <th>3</th>\n",
       "      <td>ANÁLISE E DESENV. DE SISTEMAS</td>\n",
       "      <td>Noite</td>\n",
       "      <td>1050481623047T</td>\n",
       "      <td>ABNER BESSI GONÇALVES                         ...</td>\n",
       "      <td>Em Curso                                      ...</td>\n",
       "      <td>0</td>\n",
       "      <td>Branca</td>\n",
       "      <td>0.0</td>\n",
       "      <td>1997-06-04</td>\n",
       "      <td>20162</td>\n",
       "      <td>CCG001</td>\n",
       "      <td>Contabilidade</td>\n",
       "      <td>0.0</td>\n",
       "      <td>0.0</td>\n",
       "      <td>Dispensa por Aproveitamento de Estudo         ...</td>\n",
       "    </tr>\n",
       "    <tr>\n",
       "      <th>4</th>\n",
       "      <td>ANÁLISE E DESENV. DE SISTEMAS</td>\n",
       "      <td>Noite</td>\n",
       "      <td>1050481623047T</td>\n",
       "      <td>ABNER BESSI GONÇALVES                         ...</td>\n",
       "      <td>Em Curso                                      ...</td>\n",
       "      <td>0</td>\n",
       "      <td>Branca</td>\n",
       "      <td>0.0</td>\n",
       "      <td>1997-06-04</td>\n",
       "      <td>20172</td>\n",
       "      <td>CEE002</td>\n",
       "      <td>Empreendedorismo</td>\n",
       "      <td>7.2</td>\n",
       "      <td>85.0</td>\n",
       "      <td>Aprovado por Nota e Frequência                ...</td>\n",
       "    </tr>\n",
       "  </tbody>\n",
       "</table>\n",
       "</div>"
      ],
      "text/plain": [
       "                            CURSO                 TURNO                    RA  \\\n",
       "0  ANÁLISE E DESENV. DE SISTEMAS   Noite                 1050481623047T         \n",
       "1  ANÁLISE E DESENV. DE SISTEMAS   Noite                 1050481623047T         \n",
       "2  ANÁLISE E DESENV. DE SISTEMAS   Noite                 1050481623047T         \n",
       "3  ANÁLISE E DESENV. DE SISTEMAS   Noite                 1050481623047T         \n",
       "4  ANÁLISE E DESENV. DE SISTEMAS   Noite                 1050481623047T         \n",
       "\n",
       "                                                NOME  \\\n",
       "0  ABNER BESSI GONÇALVES                         ...   \n",
       "1  ABNER BESSI GONÇALVES                         ...   \n",
       "2  ABNER BESSI GONÇALVES                         ...   \n",
       "3  ABNER BESSI GONÇALVES                         ...   \n",
       "4  ABNER BESSI GONÇALVES                         ...   \n",
       "\n",
       "                                        STATUS_ALUNO  ESCOLA_PUBLICA  \\\n",
       "0  Em Curso                                      ...               0   \n",
       "1  Em Curso                                      ...               0   \n",
       "2  Em Curso                                      ...               0   \n",
       "3  Em Curso                                      ...               0   \n",
       "4  Em Curso                                      ...               0   \n",
       "\n",
       "                   RAÇA  NOTA_VESTIBULAR DATA_NASCIMENTO  SEMESTRE_ANO  \\\n",
       "0  Branca                            0.0      1997-06-04         20162   \n",
       "1  Branca                            0.0      1997-06-04         20181   \n",
       "2  Branca                            0.0      1997-06-04         20162   \n",
       "3  Branca                            0.0      1997-06-04         20162   \n",
       "4  Branca                            0.0      1997-06-04         20172   \n",
       "\n",
       "                  SIGLA           DISCIPLINA  NOTA  FREQUENCIA  \\\n",
       "0  AAG001                Administração Geral   0.0         0.0   \n",
       "1  AGO005                 Gestão de Projetos   8.5        80.0   \n",
       "2  AGR101                  Gestão de Equipes   6.7        75.0   \n",
       "3  CCG001                      Contabilidade   0.0         0.0   \n",
       "4  CEE002                   Empreendedorismo   7.2        85.0   \n",
       "\n",
       "                                            CONCEITO  \n",
       "0  Dispensa por Aproveitamento de Estudo         ...  \n",
       "1  Aprovado por Nota e Frequência                ...  \n",
       "2  Aprovado por Nota e Frequência                ...  \n",
       "3  Dispensa por Aproveitamento de Estudo         ...  \n",
       "4  Aprovado por Nota e Frequência                ...  "
      ]
     },
     "execution_count": 10,
     "metadata": {},
     "output_type": "execute_result"
    }
   ],
   "source": [
    "df.head()"
   ]
  },
  {
   "cell_type": "code",
   "execution_count": 11,
   "metadata": {},
   "outputs": [
    {
     "data": {
      "text/plain": [
       "ESCOLA_PUBLICA       int64\n",
       "NOTA_VESTIBULAR    float64\n",
       "NOTA               float64\n",
       "FREQUENCIA         float64\n",
       "dtype: object"
      ]
     },
     "execution_count": 11,
     "metadata": {},
     "output_type": "execute_result"
    }
   ],
   "source": [
    "#Cria um dataset com os dados da correlação\n",
    "correlation_cols = df[['ESCOLA_PUBLICA','NOTA_VESTIBULAR','NOTA','FREQUENCIA']]\n",
    "correlation_cols.dtypes"
   ]
  },
  {
   "cell_type": "code",
   "execution_count": 28,
   "metadata": {},
   "outputs": [],
   "source": [
    "#TODO\n",
    "#ds = sb.load_dataset()\n",
    "#sb.pairplot(correlation_cols)"
   ]
  },
  {
   "cell_type": "code",
   "execution_count": 7,
   "metadata": {},
   "outputs": [],
   "source": [
    "escola = correlation_cols['ESCOLA_PUBLICA']\n",
    "nota_vestibular = correlation_cols['NOTA_VESTIBULAR']\n",
    "nota = correlation_cols['NOTA']\n",
    "freq = correlation_cols['FREQUENCIA']\n"
   ]
  },
  {
   "cell_type": "code",
   "execution_count": 10,
   "metadata": {},
   "outputs": [
    {
     "name": "stdout",
     "output_type": "stream",
     "text": [
      "Coeficiente de correlação de Spearman 0.099\n"
     ]
    }
   ],
   "source": [
    "spearmanr_coefficient, p_value = spearmanr(escola,nota_vestibular)\n",
    "print(\"Coeficiente de correlação de Spearman %0.3f\" %(spearmanr_coefficient))"
   ]
  },
  {
   "cell_type": "code",
   "execution_count": 11,
   "metadata": {},
   "outputs": [
    {
     "name": "stdout",
     "output_type": "stream",
     "text": [
      "Coeficiente de correlação de Spearman -0.052\n"
     ]
    }
   ],
   "source": [
    "spearmanr_coefficient, p_value = spearmanr(escola, nota)\n",
    "print(\"Coeficiente de correlação de Spearman %0.3f\" %(spearmanr_coefficient))"
   ]
  },
  {
   "cell_type": "code",
   "execution_count": 12,
   "metadata": {},
   "outputs": [
    {
     "name": "stdout",
     "output_type": "stream",
     "text": [
      "Coeficiente de correlação de Spearman -0.072\n"
     ]
    }
   ],
   "source": [
    "spearmanr_coefficient, p_value = spearmanr(escola, freq)\n",
    "print(\"Coeficiente de correlação de Spearman %0.3f\" %(spearmanr_coefficient))"
   ]
  },
  {
   "cell_type": "code",
   "execution_count": 14,
   "metadata": {},
   "outputs": [
    {
     "name": "stdout",
     "output_type": "stream",
     "text": [
      "Coeficiente de correlação de Spearman 0.069\n"
     ]
    }
   ],
   "source": [
    "spearmanr_coefficient, p_value = spearmanr(nota_vestibular, nota)\n",
    "print(\"Coeficiente de correlação de Spearman %0.3f\" %(spearmanr_coefficient))"
   ]
  },
  {
   "cell_type": "code",
   "execution_count": 15,
   "metadata": {},
   "outputs": [
    {
     "name": "stdout",
     "output_type": "stream",
     "text": [
      "Coeficiente de correlação de Spearman 0.538\n"
     ]
    }
   ],
   "source": [
    "spearmanr_coefficient, p_value = spearmanr(nota, freq)\n",
    "print(\"Coeficiente de correlação de Spearman %0.3f\" %(spearmanr_coefficient))"
   ]
  },
  {
   "cell_type": "code",
   "execution_count": 16,
   "metadata": {},
   "outputs": [
    {
     "name": "stdout",
     "output_type": "stream",
     "text": [
      "Coeficiente de correlação de Spearman 0.538\n"
     ]
    }
   ],
   "source": [
    "spearmanr_coefficient, p_value = spearmanr(freq, nota)\n",
    "print(\"Coeficiente de correlação de Spearman %0.3f\" %(spearmanr_coefficient))"
   ]
  },
  {
   "cell_type": "code",
   "execution_count": 18,
   "metadata": {},
   "outputs": [
    {
     "name": "stdout",
     "output_type": "stream",
     "text": [
      "Chi-square = 117574.118 p = 0.000\n"
     ]
    }
   ],
   "source": [
    "table = pd.crosstab(escola, nota_vestibular)\n",
    "\n",
    "from scipy.stats import chi2_contingency\n",
    "chi2, p, dof, expected = chi2_contingency(table.values)\n",
    "print(\"Chi-square = %0.3f p = %0.3f\" %(chi2, p))"
   ]
  },
  {
   "cell_type": "code",
   "execution_count": 19,
   "metadata": {},
   "outputs": [
    {
     "name": "stdout",
     "output_type": "stream",
     "text": [
      "Chi-square = 1402.617 p = 0.000\n"
     ]
    }
   ],
   "source": [
    "table = pd.crosstab(escola, nota)\n",
    "\n",
    "from scipy.stats import chi2_contingency\n",
    "chi2, p, dof, expected = chi2_contingency(table.values)\n",
    "print(\"Chi-square = %0.3f p = %0.3f\" %(chi2, p))"
   ]
  },
  {
   "cell_type": "code",
   "execution_count": 20,
   "metadata": {},
   "outputs": [
    {
     "name": "stdout",
     "output_type": "stream",
     "text": [
      "Chi-square = 1410.630 p = 0.000\n"
     ]
    }
   ],
   "source": [
    "table = pd.crosstab(escola, freq)\n",
    "\n",
    "from scipy.stats import chi2_contingency\n",
    "chi2, p, dof, expected = chi2_contingency(table.values)\n",
    "print(\"Chi-square = %0.3f p = %0.3f\" %(chi2, p))"
   ]
  },
  {
   "cell_type": "code",
   "execution_count": 9,
   "metadata": {},
   "outputs": [
    {
     "data": {
      "text/plain": [
       "<matplotlib.axes._subplots.AxesSubplot at 0x7fef7db3d7f0>"
      ]
     },
     "execution_count": 9,
     "metadata": {},
     "output_type": "execute_result"
    },
    {
     "data": {
      "image/png": "[encoded data removed]",
      "text/plain": [
       "<Figure size 792x648 with 3 Axes>"
      ]
     },
     "metadata": {},
     "output_type": "display_data"
    }
   ],
   "source": [
    "#Testando heatmap\n",
    "mask = np.zeros_like(correlation_cols, dtype=np.bool)\n",
    "mask[np.triu_indices_from(mask)] = True\n",
    "f, ax = plt.subplots(figsize=(11,9))\n",
    "cmap = sb.diverging_palette(220, 10, as_cmap = True)\n",
    "sb.heatmap(correlation_cols, mask = mask, cmap = cmap, vmax = 1, vmin =-1, center = 0,\n",
    "          square = True, linewidth = .5, cbar_kws = {\"shrink\":.5})\n",
    "f.savefig('myimage.png', format = 'png', dpi=1200)\n",
    "correlation_cols = df.corr()\n",
    "sb.heatmap(correlation_cols, mask = np.zeros_like(correlation_cols, dtype = np.bool),\n",
    "cmap = sb.diverging_palette(220, 10, as_cmap = True), square = True, ax = ax)\n"
   ]
  },
  {
   "cell_type": "code",
   "execution_count": null,
   "metadata": {},
   "outputs": [],
   "source": []
  }
 ],
 "metadata": {
  "kernelspec": {
   "display_name": "Python 3",
   "language": "python",
   "name": "python3"
  },
  "language_info": {
   "codemirror_mode": {
    "name": "ipython",
    "version": 3
   },
   "file_extension": ".py",
   "mimetype": "text/x-python",
   "name": "python",
   "nbconvert_exporter": "python",
   "pygments_lexer": "ipython3",
   "version": "3.7.1"
  }
 },
 "nbformat": 4,
 "nbformat_minor": 2
}
