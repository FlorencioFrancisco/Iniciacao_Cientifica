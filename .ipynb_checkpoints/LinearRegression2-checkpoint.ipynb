{
 "cells": [
  {
   "cell_type": "code",
   "execution_count": 4,
   "metadata": {},
   "outputs": [],
   "source": [
    "from pyspark.sql import SparkSession"
   ]
  },
  {
   "cell_type": "code",
   "execution_count": 5,
   "metadata": {},
   "outputs": [],
   "source": [
    "spark = SparkSession.builder \\\n",
    "   .master(\"local\") \\\n",
    "   .appName(\"Linear Regression Model\") \\\n",
    "   .config(\"spark.executor.memory\", \"1gb\") \\\n",
    "   .getOrCreate()"
   ]
  },
  {
   "cell_type": "code",
   "execution_count": 6,
   "metadata": {},
   "outputs": [],
   "source": [
    "sc = spark.sparkContext"
   ]
  },
  {
   "cell_type": "code",
   "execution_count": 7,
   "metadata": {},
   "outputs": [],
   "source": [
    "data = spark.read.csv('Indaiatuba_BigData_Prep.csv', inferSchema=True, header=True)"
   ]
  },
  {
   "cell_type": "code",
   "execution_count": 8,
   "metadata": {},
   "outputs": [
    {
     "name": "stdout",
     "output_type": "stream",
     "text": [
      "root\n",
      " |-- CURSO: string (nullable = true)\n",
      " |-- TURNO: string (nullable = true)\n",
      " |-- NOME: string (nullable = true)\n",
      " |-- STATUS_ALUNO: integer (nullable = true)\n",
      " |-- ESCOLA_PUBLICA: integer (nullable = true)\n",
      " |-- RAÇA: double (nullable = true)\n",
      " |-- NOTA_VESTIBULAR: double (nullable = true)\n",
      " |-- MediaNotas: double (nullable = true)\n",
      " |-- Frequencia: double (nullable = true)\n",
      "\n"
     ]
    }
   ],
   "source": [
    "data.printSchema()"
   ]
  },
  {
   "cell_type": "code",
   "execution_count": 9,
   "metadata": {},
   "outputs": [],
   "source": [
    "#data.show()"
   ]
  },
  {
   "cell_type": "code",
   "execution_count": 10,
   "metadata": {},
   "outputs": [],
   "source": [
    "from pyspark.ml.linalg import Vectors\n",
    "from pyspark.ml.feature import VectorAssembler"
   ]
  },
  {
   "cell_type": "code",
   "execution_count": 11,
   "metadata": {},
   "outputs": [],
   "source": [
    "#Cria uma caixa preparada para receber os dados e devolver uma coluna com sua junção\n",
    "featureAssembler=VectorAssembler(inputCols=['ESCOLA_PUBLICA','RAÇA','NOTA_VESTIBULAR','MediaNotas','Frequencia'],outputCol='Idependent_Features')"
   ]
  },
  {
   "cell_type": "code",
   "execution_count": 12,
   "metadata": {},
   "outputs": [],
   "source": [
    "#Recebe os dados -data- e adicina a coluna conforme estipulado pela caixa\n",
    "output=featureAssembler.transform(data)"
   ]
  },
  {
   "cell_type": "code",
   "execution_count": 1,
   "metadata": {},
   "outputs": [
    {
     "ename": "NameError",
     "evalue": "name 'output' is not defined",
     "output_type": "error",
     "traceback": [
      "\u001b[1;31m---------------------------------------------------------------------------\u001b[0m",
      "\u001b[1;31mNameError\u001b[0m                                 Traceback (most recent call last)",
      "\u001b[1;32m<ipython-input-1-8cdddf963446>\u001b[0m in \u001b[0;36m<module>\u001b[1;34m()\u001b[0m\n\u001b[0;32m      1\u001b[0m \u001b[1;31m#Apenas os dados relevantes (entradas, saida)\u001b[0m\u001b[1;33m\u001b[0m\u001b[1;33m\u001b[0m\u001b[0m\n\u001b[1;32m----> 2\u001b[1;33m \u001b[0mfinalized_data\u001b[0m \u001b[1;33m=\u001b[0m \u001b[0moutput\u001b[0m\u001b[1;33m.\u001b[0m\u001b[0mselect\u001b[0m\u001b[1;33m(\u001b[0m\u001b[1;34m'Idependent_Features'\u001b[0m\u001b[1;33m,\u001b[0m\u001b[1;34m'STATUS_ALUNO'\u001b[0m\u001b[1;33m)\u001b[0m\u001b[1;33m\u001b[0m\u001b[0m\n\u001b[0m",
      "\u001b[1;31mNameError\u001b[0m: name 'output' is not defined"
     ]
    }
   ],
   "source": [
    "#Apenas os dados relevantes (entradas, saida)\n",
    "finalized_data = output.select('Idependent_Features','STATUS_ALUNO')"
   ]
  },
  {
   "cell_type": "code",
   "execution_count": 14,
   "metadata": {},
   "outputs": [],
   "source": [
    "from pyspark.ml.regression import LinearRegression\n",
    "#Cria a caixa da regreção que recebera dados\n",
    "regressor = LinearRegression(featuresCol='Idependent_Features', labelCol='STATUS_ALUNO')"
   ]
  },
  {
   "cell_type": "code",
   "execution_count": 15,
   "metadata": {},
   "outputs": [],
   "source": [
    "train_data,test_data = finalized_data.randomSplit([.75,.25])"
   ]
  },
  {
   "cell_type": "code",
   "execution_count": 16,
   "metadata": {},
   "outputs": [],
   "source": [
    "#Coloca os dados -train_data- na caixa\n",
    "regressor=regressor.fit(train_data)"
   ]
  },
  {
   "cell_type": "code",
   "execution_count": 17,
   "metadata": {},
   "outputs": [
    {
     "data": {
      "text/plain": [
       "DenseVector([0.0041, 0.0086, 0.0009, 0.1173, -0.0009])"
      ]
     },
     "execution_count": 17,
     "metadata": {},
     "output_type": "execute_result"
    }
   ],
   "source": [
    "regressor.coefficients"
   ]
  },
  {
   "cell_type": "code",
   "execution_count": 18,
   "metadata": {},
   "outputs": [
    {
     "ename": "SyntaxError",
     "evalue": "invalid syntax (<ipython-input-18-27572b1b3251>, line 1)",
     "output_type": "error",
     "traceback": [
      "\u001b[1;36m  File \u001b[1;32m\"<ipython-input-18-27572b1b3251>\"\u001b[1;36m, line \u001b[1;32m1\u001b[0m\n\u001b[1;33m    regressor.\u001b[0m\n\u001b[1;37m              ^\u001b[0m\n\u001b[1;31mSyntaxError\u001b[0m\u001b[1;31m:\u001b[0m invalid syntax\n"
     ]
    }
   ],
   "source": [
    "regressor."
   ]
  },
  {
   "cell_type": "code",
   "execution_count": 19,
   "metadata": {},
   "outputs": [
    {
     "data": {
      "text/plain": [
       "-0.12467721972874138"
      ]
     },
     "execution_count": 19,
     "metadata": {},
     "output_type": "execute_result"
    }
   ],
   "source": [
    "regressor.intercept"
   ]
  },
  {
   "cell_type": "code",
   "execution_count": 20,
   "metadata": {},
   "outputs": [],
   "source": [
    "pred_results=regressor.evaluate(test_data)"
   ]
  },
  {
   "cell_type": "code",
   "execution_count": 21,
   "metadata": {},
   "outputs": [
    {
     "name": "stdout",
     "output_type": "stream",
     "text": [
      "+--------------------+------------+--------------------+\n",
      "| Idependent_Features|STATUS_ALUNO|          prediction|\n",
      "+--------------------+------------+--------------------+\n",
      "|(5,[0,1],[1.0,-0....|           0|  -0.126999974631805|\n",
      "|(5,[0,1],[1.0,-0....|           0|  -0.126999974631805|\n",
      "|(5,[0,2],[1.0,48....|           0|-0.07961715850164203|\n",
      "|(5,[0,2],[1.0,56....|           0| -0.0720192135497004|\n",
      "|(5,[0,2],[1.0,58....|           0|-0.07037860288985881|\n",
      "|(5,[0,2],[1.0,60.5])|           0|-0.06897236518142316|\n",
      "|(5,[0,4],[1.0,57.5])|           0|-0.17179056546588173|\n",
      "|     (5,[1],[-0.75])|           0|-0.13114277986981648|\n",
      "|     (5,[1],[-0.75])|           0|-0.13114277986981648|\n",
      "|     (5,[1],[-0.75])|           0|-0.13114277986981648|\n",
      "|     (5,[1],[-0.75])|           0|-0.13114277986981648|\n",
      "|       (5,[1],[0.5])|           0|-0.12036684630135798|\n",
      "|(5,[1,2],[-0.75,5...|           0|-0.08664686197907936|\n",
      "|(5,[1,2],[-0.75,5...|           0|-0.08226707071626072|\n",
      "|(5,[1,2],[-0.75,5...|           0|-0.08021992951888957|\n",
      "|(5,[1,2],[-0.75,6...|           0|-0.07915459792158985|\n",
      "|(5,[1,2],[-0.75,6...|           0|-0.07745006736591029|\n",
      "|(5,[1,2],[-0.75,6...|           0|-0.07169727674049176|\n",
      "|(5,[1,2],[0.5,59.5])|           0|-0.06965706226989102|\n",
      "|(5,[1,4],[-0.75,2...|           0|-0.14897100629595625|\n",
      "+--------------------+------------+--------------------+\n",
      "only showing top 20 rows\n",
      "\n"
     ]
    }
   ],
   "source": [
    "pred_results.predictions.show()"
   ]
  },
  {
   "cell_type": "code",
   "execution_count": 22,
   "metadata": {},
   "outputs": [
    {
     "data": {
      "text/plain": [
       "pyspark.ml.regression.LinearRegressionSummary"
      ]
     },
     "execution_count": 22,
     "metadata": {},
     "output_type": "execute_result"
    }
   ],
   "source": [
    "type(pred_results)"
   ]
  },
  {
   "cell_type": "code",
   "execution_count": 23,
   "metadata": {},
   "outputs": [
    {
     "name": "stdout",
     "output_type": "stream",
     "text": [
      "0.26922217439633794 , 0.109731568939899\n"
     ]
    }
   ],
   "source": [
    "print(pred_results.meanAbsoluteError,',',pred_results.meanSquaredError)"
   ]
  },
  {
   "cell_type": "code",
   "execution_count": 24,
   "metadata": {},
   "outputs": [
    {
     "data": {
      "text/plain": [
       "0.3312575568042169"
      ]
     },
     "execution_count": 24,
     "metadata": {},
     "output_type": "execute_result"
    }
   ],
   "source": [
    "pred_results.rootMeanSquaredError"
   ]
  },
  {
   "cell_type": "code",
   "execution_count": 25,
   "metadata": {},
   "outputs": [
    {
     "data": {
      "text/plain": [
       "0.4946492269895777"
      ]
     },
     "execution_count": 25,
     "metadata": {},
     "output_type": "execute_result"
    }
   ],
   "source": [
    "pred_results.r2"
   ]
  },
  {
   "cell_type": "code",
   "execution_count": 37,
   "metadata": {},
   "outputs": [
    {
     "data": {
      "text/plain": [
       "<matplotlib.axes._subplots.AxesSubplot at 0x197182dd68>"
      ]
     },
     "execution_count": 37,
     "metadata": {},
     "output_type": "execute_result"
    },
    {
     "data": {
      "image/png": "[encoded data removed]",
      "text/plain": [
       "<Figure size 432x288 with 1 Axes>"
      ]
     },
     "metadata": {
      "needs_background": "light"
     },
     "output_type": "display_data"
    }
   ],
   "source": [
    "pred_results.residuals.toPandas().plot.hist()"
   ]
  },
  {
   "cell_type": "code",
   "execution_count": 49,
   "metadata": {},
   "outputs": [
    {
     "data": {
      "image/png": "[encoded data removed]",
      "text/plain": [
       "<Figure size 432x288 with 1 Axes>"
      ]
     },
     "metadata": {
      "needs_background": "light"
     },
     "output_type": "display_data"
    }
   ],
   "source": [
    "a=pred_results.residuals.toPandas().sort_values('residuals').plot.barh()"
   ]
  },
  {
   "cell_type": "code",
   "execution_count": 50,
   "metadata": {},
   "outputs": [
    {
     "name": "stdout",
     "output_type": "stream",
     "text": [
      "+--------------------+------------+--------------------+\n",
      "| Idependent_Features|STATUS_ALUNO|          prediction|\n",
      "+--------------------+------------+--------------------+\n",
      "|(5,[3,4],[8.59166...|           1|  0.8040502570511628|\n",
      "|[0.0,-1.0,44.55,7...|           1|  0.7111247594662474|\n",
      "|[0.0,-1.0,48.0,5....|           1| 0.48701302805006863|\n",
      "|[0.0,-1.0,51.911,...|           1|  0.7021804703305049|\n",
      "|[0.0,-1.0,62.438,...|           1|  0.5145997510718847|\n",
      "|[0.0,-1.0,64.0,7....|           1|  0.7465233356180578|\n",
      "|[0.0,-0.75,0.0,1....|           1|0.061590505027402626|\n",
      "|[0.0,-0.75,0.0,5....|           1|  0.4480282360021556|\n",
      "|[0.0,-0.75,22.727...|           1|  0.5788468288736879|\n",
      "|[0.0,-0.75,25.3,6...|           1|  0.6202070404649965|\n",
      "|[0.0,-0.75,28.788...|           1|  0.5098371495297198|\n",
      "|[0.0,-0.75,29.2,6...|           1|   0.582913258584622|\n",
      "|[0.0,-0.75,32.0,8...|           1|  0.7611385270864037|\n",
      "|[0.0,-0.75,33.0,7...|           1|  0.6442810682247921|\n",
      "|[0.0,-0.75,36.05,...|           1|  0.6754901103309916|\n",
      "|[0.0,-0.75,36.653...|           1|  0.6953145796557465|\n",
      "|[0.0,-0.75,36.66,...|           1|  0.5431907431024926|\n",
      "|[0.0,-0.75,38.775...|           1|  0.6352867125176582|\n",
      "|[0.0,-0.75,39.75,...|           1|  0.6968210810881975|\n",
      "|[0.0,-0.75,39.966...|           1| 0.39897499835364225|\n",
      "+--------------------+------------+--------------------+\n",
      "only showing top 20 rows\n",
      "\n"
     ]
    }
   ],
   "source": [
    "pred_results.predictions.filter('STATUS_ALUNO=1').show()"
   ]
  },
  {
   "cell_type": "code",
   "execution_count": null,
   "metadata": {},
   "outputs": [],
   "source": []
  }
 ],
 "metadata": {
  "kernelspec": {
   "display_name": "Python 3",
   "language": "python",
   "name": "python3"
  },
  "language_info": {
   "codemirror_mode": {
    "name": "ipython",
    "version": 3
   },
   "file_extension": ".py",
   "mimetype": "text/x-python",
   "name": "python",
   "nbconvert_exporter": "python",
   "pygments_lexer": "ipython3",
   "version": "3.7.0"
  }
 },
 "nbformat": 4,
 "nbformat_minor": 2
}
